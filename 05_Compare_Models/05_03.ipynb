{
 "cells": [
  {
   "attachments": {},
   "cell_type": "markdown",
   "metadata": {},
   "source": [
    "# Compare NLP Techniques: Build Model On word2vec Vectors"
   ]
  },
  {
   "attachments": {},
   "cell_type": "markdown",
   "metadata": {},
   "source": [
    "### Read In Cleaned Text"
   ]
  },
  {
   "cell_type": "code",
   "execution_count": 1,
   "metadata": {},
   "outputs": [],
   "source": [
    "# Load the cleaned training and test sets\n",
    "import gensim\n",
    "import numpy as np\n",
    "import pandas as pd\n",
    "\n",
    "X_train = pd.read_csv('../data/X_train.csv')\n",
    "X_test = pd.read_csv('../data/X_test.csv')\n",
    "y_train = pd.read_csv('../data/y_train.csv')\n",
    "y_test = pd.read_csv('../data/y_test.csv')"
   ]
  },
  {
   "attachments": {},
   "cell_type": "markdown",
   "metadata": {},
   "source": [
    "### Create word2vec Vectors"
   ]
  },
  {
   "cell_type": "code",
   "execution_count": 2,
   "metadata": {},
   "outputs": [],
   "source": [
    "# Train a basic word2vec model\n",
    "w2v_model = gensim.models.Word2Vec(X_train, vector_size=100, window=5, min_count=2)"
   ]
  },
  {
   "cell_type": "code",
   "execution_count": 3,
   "metadata": {},
   "outputs": [],
   "source": [
    "# Replace the words in each text message with the learned word vector\n",
    "words = set(w2v_model.wv.index_to_key)\n",
    "X_train_vect = [np.array([w2v_model.wv[i] for i in ls if i in words]) for ls in X_train['clean_text']]\n",
    "X_test_vect = [np.array([w2v_model.wv[i] for i in ls if i in words]) for ls in X_test['clean_text']]"
   ]
  },
  {
   "cell_type": "code",
   "execution_count": 4,
   "metadata": {},
   "outputs": [],
   "source": [
    "# Average the word vectors for each sentence (and assign a vector of zeros if the model\n",
    "# did not learn any of the words in the text message during training)\n",
    "X_train_vect_avg = []\n",
    "for v in X_train_vect:\n",
    "    if v.size:\n",
    "        X_train_vect_avg.append(v.mean(axis=0))\n",
    "    else:\n",
    "        X_train_vect_avg.append(np.zeros(100, dtype=float))\n",
    "        \n",
    "X_test_vect_avg = []\n",
    "for v in X_test_vect:\n",
    "    if v.size:\n",
    "        X_test_vect_avg.append(v.mean(axis=0))\n",
    "    else:\n",
    "        X_test_vect_avg.append(np.zeros(100, dtype=float))"
   ]
  },
  {
   "cell_type": "code",
   "execution_count": 5,
   "metadata": {},
   "outputs": [
    {
     "data": {
      "text/plain": [
       "array([[-0.00861969,  0.00366574,  0.00518988, ..., -0.00239151,\n",
       "        -0.00951009,  0.00450588],\n",
       "       [-0.00053623,  0.00023643,  0.00510335, ..., -0.00704156,\n",
       "         0.00090146,  0.00639253],\n",
       "       [-0.00053623,  0.00023643,  0.00510335, ..., -0.00704156,\n",
       "         0.00090146,  0.00639253],\n",
       "       ...,\n",
       "       [-0.00861969,  0.00366574,  0.00518988, ..., -0.00239151,\n",
       "        -0.00951009,  0.00450588],\n",
       "       [-0.00053623,  0.00023643,  0.00510335, ..., -0.00704156,\n",
       "         0.00090146,  0.00639253],\n",
       "       [-0.00053623,  0.00023643,  0.00510335, ..., -0.00704156,\n",
       "         0.00090146,  0.00639253]], dtype=float32)"
      ]
     },
     "execution_count": 5,
     "metadata": {},
     "output_type": "execute_result"
    }
   ],
   "source": [
    "# What does the unaveraged version look like?\n",
    "X_train_vect[0]"
   ]
  },
  {
   "cell_type": "code",
   "execution_count": 6,
   "metadata": {},
   "outputs": [
    {
     "data": {
      "text/plain": [
       "array([-3.4756670e-03,  1.4834519e-03,  5.1348167e-03,  7.8211511e-03,\n",
       "       -3.2048158e-03, -6.7716693e-03,  4.5122327e-03,  7.9090949e-03,\n",
       "       -4.2243819e-03, -4.6397899e-03,  4.5475126e-03, -4.0190993e-03,\n",
       "       -4.9233041e-03,  6.7542288e-03, -1.8737242e-03,  1.4718686e-03,\n",
       "        4.3033678e-03,  3.3696441e-03, -6.6502839e-03, -6.2171775e-03,\n",
       "        5.5068969e-03,  1.5832458e-03,  7.3507982e-03, -3.0993274e-03,\n",
       "        6.5013450e-03, -1.1072633e-03, -2.3960122e-03,  5.2702515e-03,\n",
       "       -5.4190694e-03, -6.4289787e-05, -1.1565160e-03, -2.1781882e-03,\n",
       "        5.8517708e-03, -6.7287926e-03, -8.4826468e-05, -2.1978912e-04,\n",
       "        7.6460331e-03, -1.5556264e-03,  3.4972839e-03,  3.4704831e-04,\n",
       "       -3.2393255e-03,  6.4482132e-04, -8.9036869e-03, -2.9241627e-03,\n",
       "       -1.1495511e-03,  2.6821815e-03, -2.7158530e-03,  5.5564134e-03,\n",
       "        3.7198416e-03,  6.5265610e-03, -2.3486488e-03, -5.9728726e-04,\n",
       "       -2.7074234e-03,  1.7862306e-03,  5.0667683e-03,  2.0835015e-04,\n",
       "        6.1514215e-03, -1.9420632e-03, -2.5169004e-03,  8.7846518e-03,\n",
       "       -4.1073556e-03,  1.3707298e-03, -4.3214909e-03, -6.7395126e-03,\n",
       "        3.4567417e-04,  3.5245379e-03,  2.2601697e-03,  1.4245097e-03,\n",
       "        9.5750950e-04,  3.8474947e-03,  2.1228506e-03,  2.1308279e-03,\n",
       "        1.0521532e-03, -3.4925432e-03,  2.4948788e-03, -2.0760843e-03,\n",
       "        2.1590595e-03, -1.4255655e-03,  1.9128347e-04, -6.9029108e-03,\n",
       "       -3.9523756e-03,  3.1902634e-03,  5.2134469e-03,  2.1503945e-03,\n",
       "       -3.1897833e-03,  4.2838455e-04,  3.8836054e-03, -6.6473093e-03,\n",
       "       -9.9843694e-04,  2.5984531e-03,  1.4337196e-03, -4.5231619e-04,\n",
       "        3.0092867e-03, -2.7274422e-03,  5.1330044e-03,  4.1888203e-03,\n",
       "       -3.7304552e-03, -5.3506345e-03, -2.8845624e-03,  5.7064774e-03],\n",
       "      dtype=float32)"
      ]
     },
     "execution_count": 6,
     "metadata": {},
     "output_type": "execute_result"
    }
   ],
   "source": [
    "# What does the averaged version look like?\n",
    "X_train_vect_avg[0]"
   ]
  },
  {
   "attachments": {},
   "cell_type": "markdown",
   "metadata": {},
   "source": [
    "### Fit RandomForestClassifier On Top Of Word Vectors"
   ]
  },
  {
   "cell_type": "code",
   "execution_count": 7,
   "metadata": {},
   "outputs": [],
   "source": [
    "# Instantiate and fit a basic Random Forest model on top of the vectors\n",
    "from sklearn.ensemble import RandomForestClassifier\n",
    "\n",
    "rf = RandomForestClassifier()\n",
    "rf_model = rf.fit(X_train_vect_avg, y_train.values.ravel())"
   ]
  },
  {
   "cell_type": "code",
   "execution_count": 8,
   "metadata": {},
   "outputs": [],
   "source": [
    "# Use the trained model to make predictions on the test data\n",
    "y_pred = rf_model.predict(X_test_vect_avg)"
   ]
  },
  {
   "cell_type": "code",
   "execution_count": 9,
   "metadata": {},
   "outputs": [
    {
     "name": "stdout",
     "output_type": "stream",
     "text": [
      "Precision: 0.594 / Recall: 0.27 / Accuracy: 0.875\n"
     ]
    }
   ],
   "source": [
    "# Evaluate the predictions of the model on the holdout test set\n",
    "from sklearn.metrics import precision_score, recall_score\n",
    "\n",
    "precision = precision_score(y_test, y_pred)\n",
    "recall = recall_score(y_test, y_pred)\n",
    "print('Precision: {} / Recall: {} / Accuracy: {}'.format(\n",
    "    round(precision, 3), round(recall, 3), round((y_pred==y_test['label']).sum()/len(y_pred), 3)))"
   ]
  }
 ],
 "metadata": {
  "kernelspec": {
   "display_name": "Python 3",
   "language": "python",
   "name": "python3"
  },
  "language_info": {
   "codemirror_mode": {
    "name": "ipython",
    "version": 3
   },
   "file_extension": ".py",
   "mimetype": "text/x-python",
   "name": "python",
   "nbconvert_exporter": "python",
   "pygments_lexer": "ipython3",
   "version": "3.11.3"
  }
 },
 "nbformat": 4,
 "nbformat_minor": 2
}
