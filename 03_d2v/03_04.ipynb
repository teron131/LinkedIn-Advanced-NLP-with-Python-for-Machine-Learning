{
 "cells": [
  {
   "attachments": {},
   "cell_type": "markdown",
   "metadata": {},
   "source": [
    "# doc2vec: How To Prep Document Vectors For Modeling"
   ]
  },
  {
   "attachments": {},
   "cell_type": "markdown",
   "metadata": {},
   "source": [
    "### Train Our Own Model"
   ]
  },
  {
   "cell_type": "code",
   "execution_count": 2,
   "metadata": {},
   "outputs": [],
   "source": [
    "# Read in data, clean it, split it into train/test, and then train a doc2vec model\n",
    "import gensim\n",
    "import pandas as pd\n",
    "from sklearn.model_selection import train_test_split\n",
    "pd.set_option('display.max_colwidth', 100)\n",
    "\n",
    "messages = pd.read_csv('../data/spam.csv', encoding='latin-1')\n",
    "messages = messages.drop(labels = [\"Unnamed: 2\", \"Unnamed: 3\", \"Unnamed: 4\"], axis = 1)\n",
    "messages.columns = [\"label\", \"text\"]\n",
    "messages['text_clean'] = messages['text'].apply(lambda x: gensim.utils.simple_preprocess(x))\n",
    "\n",
    "X_train, X_test, y_train, y_test = train_test_split(messages['text_clean'],\n",
    "                                                    messages['label'], test_size=0.2)\n",
    "\n",
    "tagged_docs_tr = [gensim.models.doc2vec.TaggedDocument(v, [i]) for i, v in enumerate(X_train)]\n",
    "\n",
    "d2v_model = gensim.models.Doc2Vec(tagged_docs_tr, vector_size=50, window=2, min_count=2)"
   ]
  },
  {
   "cell_type": "code",
   "execution_count": 3,
   "metadata": {},
   "outputs": [
    {
     "data": {
      "text/plain": [
       "array([ 0.00376448,  0.00881088, -0.00633844, -0.01280787, -0.00656802,\n",
       "       -0.01548709, -0.00685113,  0.03082145, -0.04048647, -0.02898078,\n",
       "        0.00307652, -0.0160125 ,  0.0033181 , -0.00146115, -0.01781437,\n",
       "        0.02310436,  0.02520367, -0.00263706, -0.031695  , -0.0105246 ,\n",
       "        0.01659888,  0.019787  ,  0.04994716, -0.00468729,  0.01941932,\n",
       "        0.01921475, -0.0271068 ,  0.00631096, -0.02479362,  0.00275671,\n",
       "        0.00405054, -0.00311382, -0.00487849, -0.00797768, -0.0087992 ,\n",
       "        0.01820464,  0.01291765, -0.0089206 , -0.0063187 , -0.00841609,\n",
       "        0.01831621,  0.00079815,  0.00884872, -0.00528561,  0.03149528,\n",
       "        0.00864177,  0.01486472, -0.02331213,  0.00382285,  0.01524783],\n",
       "      dtype=float32)"
      ]
     },
     "execution_count": 3,
     "metadata": {},
     "output_type": "execute_result"
    }
   ],
   "source": [
    "# What does a document vector look like again?\n",
    "d2v_model.infer_vector(['convert', 'words', 'to', 'vectors'])"
   ]
  },
  {
   "cell_type": "code",
   "execution_count": 5,
   "metadata": {},
   "outputs": [
    {
     "data": {
      "text/plain": [
       "[array([ 0.00850308,  0.00171008, -0.00767133, -0.01990022,  0.00996763,\n",
       "         0.00611724,  0.02718367,  0.01013524, -0.02815638, -0.00202135,\n",
       "         0.00198823, -0.02130712, -0.0037585 ,  0.01285108, -0.02046327,\n",
       "         0.01489287,  0.03012642,  0.00912198, -0.00421582, -0.02701136,\n",
       "         0.00059624,  0.00020792,  0.0262967 , -0.01221213,  0.00601564,\n",
       "         0.00692054, -0.01141202,  0.0060779 , -0.02588733, -0.0037358 ,\n",
       "        -0.01296418,  0.01563779,  0.01029546,  0.02657419, -0.01008443,\n",
       "        -0.00138884,  0.03124498,  0.0009907 ,  0.02810177, -0.04392348,\n",
       "         0.00470678, -0.00349119,  0.04400412,  0.00431659,  0.0288401 ,\n",
       "         0.00242608, -0.01398826, -0.00159135,  0.00901097,  0.0227876 ],\n",
       "       dtype=float32)]"
      ]
     },
     "execution_count": 5,
     "metadata": {},
     "output_type": "execute_result"
    }
   ],
   "source": [
    "# How do we prepare these vectors to be used in a machine learning model?\n",
    "vector = [[d2v_model.infer_vector(words)] for words in X_test]\n",
    "vector[0]"
   ]
  }
 ],
 "metadata": {
  "kernelspec": {
   "display_name": "Python 3",
   "language": "python",
   "name": "python3"
  },
  "language_info": {
   "codemirror_mode": {
    "name": "ipython",
    "version": 3
   },
   "file_extension": ".py",
   "mimetype": "text/x-python",
   "name": "python",
   "nbconvert_exporter": "python",
   "pygments_lexer": "ipython3",
   "version": "3.11.3"
  }
 },
 "nbformat": 4,
 "nbformat_minor": 1
}
