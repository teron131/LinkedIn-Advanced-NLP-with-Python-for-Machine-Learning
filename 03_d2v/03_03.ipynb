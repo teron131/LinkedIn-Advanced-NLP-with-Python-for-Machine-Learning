{
 "cells": [
  {
   "attachments": {},
   "cell_type": "markdown",
   "metadata": {},
   "source": [
    "# doc2vec: How To Implement doc2vec"
   ]
  },
  {
   "attachments": {},
   "cell_type": "markdown",
   "metadata": {},
   "source": [
    "### Train Our Own Model"
   ]
  },
  {
   "cell_type": "code",
   "execution_count": 2,
   "metadata": {},
   "outputs": [],
   "source": [
    "# Read in data, clean it, and then split into train and test sets\n",
    "import gensim\n",
    "import pandas as pd\n",
    "from sklearn.model_selection import train_test_split\n",
    "pd.set_option('display.max_colwidth', 100)\n",
    "\n",
    "messages = pd.read_csv('../data/spam.csv', encoding='latin-1')\n",
    "messages = messages.drop(labels = [\"Unnamed: 2\", \"Unnamed: 3\", \"Unnamed: 4\"], axis = 1)\n",
    "messages.columns = [\"label\", \"text\"]\n",
    "messages['text_clean'] = messages['text'].apply(lambda x: gensim.utils.simple_preprocess(x))\n",
    "\n",
    "X_train, X_test, y_train, y_test = train_test_split(messages['text_clean'],\n",
    "                                                    messages['label'], test_size=0.2)"
   ]
  },
  {
   "cell_type": "code",
   "execution_count": 3,
   "metadata": {},
   "outputs": [],
   "source": [
    "# Create tagged document objects to prepare to train the model\n",
    "tagged_docs = [gensim.models.doc2vec.TaggedDocument(v, [i]) for i, v in enumerate(X_train)]"
   ]
  },
  {
   "cell_type": "code",
   "execution_count": 4,
   "metadata": {},
   "outputs": [
    {
     "data": {
      "text/plain": [
       "TaggedDocument(words=['lol', 'yes', 'our', 'friendship', 'is', 'hanging', 'on', 'thread', 'cause', 'won', 'buy', 'stuff'], tags=[0])"
      ]
     },
     "execution_count": 4,
     "metadata": {},
     "output_type": "execute_result"
    }
   ],
   "source": [
    "# Look at what a tagged document looks like\n",
    "tagged_docs[0]"
   ]
  },
  {
   "cell_type": "code",
   "execution_count": 5,
   "metadata": {},
   "outputs": [],
   "source": [
    "# Train a basic doc2vec model\n",
    "d2v_model = gensim.models.Doc2Vec(tagged_docs, vector_size=100, window=5, min_count=2)"
   ]
  },
  {
   "cell_type": "code",
   "execution_count": null,
   "metadata": {},
   "outputs": [],
   "source": [
    "# What happens if we pass in a single word like we did for word2vec?\n",
    "d2v_model.infer_vector('text')\n",
    "\n",
    "# TypeError: Parameter doc_words of infer_vector() must be a list of strings (not a single string)."
   ]
  },
  {
   "cell_type": "code",
   "execution_count": 7,
   "metadata": {},
   "outputs": [
    {
     "data": {
      "text/plain": [
       "array([-0.00168596,  0.01508794,  0.01160038, -0.00338361,  0.01132102,\n",
       "       -0.02389889,  0.02116293,  0.04805538, -0.01647898, -0.01417084,\n",
       "       -0.01098558, -0.03593954,  0.00255337,  0.00353758,  0.00733562,\n",
       "       -0.01752469,  0.0067111 , -0.02172901,  0.00240758, -0.04477942,\n",
       "        0.01149775,  0.00413259,  0.01695592, -0.01012047, -0.0054517 ,\n",
       "        0.00896844, -0.01013042, -0.0165707 , -0.02167361, -0.00137383,\n",
       "        0.02361354,  0.00513901,  0.01327512, -0.01172036, -0.00941433,\n",
       "        0.02568521,  0.00435821, -0.01291472, -0.01023596, -0.02167915,\n",
       "       -0.00579567, -0.00668968, -0.00233986, -0.00142471,  0.01381543,\n",
       "       -0.01183296, -0.01288486, -0.00672589,  0.01407277,  0.01379746,\n",
       "        0.01204773, -0.01390184,  0.00456665, -0.00428431, -0.0160882 ,\n",
       "        0.00530108,  0.00379643, -0.00118838, -0.01480482,  0.00714468,\n",
       "        0.00046443, -0.00112335,  0.00092854, -0.00984535, -0.02009081,\n",
       "        0.02129154,  0.0121479 ,  0.01603481, -0.01980219,  0.02022412,\n",
       "       -0.00854965,  0.02232242,  0.01975874, -0.00789428,  0.042419  ,\n",
       "        0.00820076, -0.00240599,  0.0030844 , -0.02078773,  0.0065862 ,\n",
       "       -0.01675127,  0.01225865, -0.01695703,  0.02573277, -0.01726688,\n",
       "       -0.0068767 ,  0.01314165,  0.01888474,  0.02014676,  0.00452111,\n",
       "        0.02611821,  0.01809694,  0.00122512,  0.012214  ,  0.03079036,\n",
       "        0.01132988,  0.0079021 , -0.02858457,  0.00903824,  0.00601743],\n",
       "      dtype=float32)"
      ]
     },
     "execution_count": 7,
     "metadata": {},
     "output_type": "execute_result"
    }
   ],
   "source": [
    "# What happens if we pass in a list of words?\n",
    "d2v_model.infer_vector(['i', 'am', 'learning', 'nlp'])"
   ]
  },
  {
   "attachments": {},
   "cell_type": "markdown",
   "metadata": {},
   "source": [
    "### What About Pre-trained Document Vectors?\n",
    "\n",
    "There are not as many options as there are for word vectors. There also is not an easy API to read these in like there is for `word2vec` so it is more time consuming.\n",
    "\n",
    "Pre-trained vectors from training on Wikipedia and Associated Press News can be found [here](https://github.com/jhlau/doc2vec). Feel free to explore on your own!"
   ]
  }
 ],
 "metadata": {
  "kernelspec": {
   "display_name": "Python 3",
   "language": "python",
   "name": "python3"
  },
  "language_info": {
   "codemirror_mode": {
    "name": "ipython",
    "version": 3
   },
   "file_extension": ".py",
   "mimetype": "text/x-python",
   "name": "python",
   "nbconvert_exporter": "python",
   "pygments_lexer": "ipython3",
   "version": "3.11.3"
  }
 },
 "nbformat": 4,
 "nbformat_minor": 1
}
